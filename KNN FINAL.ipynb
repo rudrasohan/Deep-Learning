{
 "cells": [
  {
   "cell_type": "code",
   "execution_count": 4,
   "metadata": {},
   "outputs": [
    {
     "name": "stdout",
     "output_type": "stream",
     "text": [
      "The autoreload extension is already loaded. To reload it, use:\n",
      "  %reload_ext autoreload\n"
     ]
    }
   ],
   "source": [
    "import pandas as pd\n",
    "import numpy as np\n",
    "import matplotlib.pyplot as plt\n",
    "from matplotlib.colors import ListedColormap\n",
    "from sklearn import neighbors, datasets\n",
    "from matplotlib.backends.backend_pdf import PdfPages\n",
    "pp = PdfPages('flood-draft_final.pdf')\n",
    "df = pd.read_csv('FloodRisk.csv')\n",
    "%matplotlib inline\n",
    "plt.rcParams['figure.figsize'] = (20.0, 20.0) # set default size of plots\n",
    "plt.rcParams['image.interpolation'] = 'nearest'\n",
    "plt.rcParams['image.cmap'] = 'gray'\n",
    "\n",
    "# for auto-reloading extenrnal modules\n",
    "# see http://stackoverflow.com/questions/1907993/autoreload-of-modules-in-ipython\n",
    "%load_ext autoreload\n",
    "%autoreload 2"
   ]
  },
  {
   "cell_type": "code",
   "execution_count": 5,
   "metadata": {},
   "outputs": [],
   "source": [
    "sort = df.sort_values(by=['Lon', 'Lat'])\n",
    "h = .0002 \n",
    "cmap_light = ListedColormap(['#FFAAAA', '#AAFFAA', '#AAAAFF'])\n",
    "cmap_bold = ListedColormap(['#FF0000', '#00FF00', '#0000FF'])\n",
    "n_neighbors = 38"
   ]
  },
  {
   "cell_type": "code",
   "execution_count": 6,
   "metadata": {},
   "outputs": [
    {
     "name": "stdout",
     "output_type": "stream",
     "text": [
      "0\n",
      "5000\n",
      "5000\n",
      "10000\n",
      "10000\n",
      "15000\n",
      "15000\n",
      "20000\n",
      "20000\n",
      "25000\n",
      "25000\n",
      "30000\n",
      "30000\n",
      "35000\n",
      "35000\n",
      "40000\n",
      "40000\n",
      "45000\n",
      "45000\n",
      "50000\n"
     ]
    },
    {
     "name": "stderr",
     "output_type": "stream",
     "text": [
      "/usr/local/lib/python3.5/dist-packages/matplotlib/pyplot.py:523: RuntimeWarning: More than 20 figures have been opened. Figures created through the pyplot interface (`matplotlib.pyplot.figure`) are retained until explicitly closed and may consume too much memory. (To control this warning, see the rcParam `figure.max_open_warning`).\n",
      "  max_open_warning, RuntimeWarning)\n"
     ]
    },
    {
     "data": {
      "text/plain": [
       "<matplotlib.figure.Figure at 0x7fd68b3dc748>"
      ]
     },
     "metadata": {},
     "output_type": "display_data"
    },
    {
     "data": {
      "text/plain": [
       "<matplotlib.figure.Figure at 0x7fd64d886898>"
      ]
     },
     "metadata": {},
     "output_type": "display_data"
    },
    {
     "data": {
      "text/plain": [
       "<matplotlib.figure.Figure at 0x7fd64d8c07f0>"
      ]
     },
     "metadata": {},
     "output_type": "display_data"
    },
    {
     "data": {
      "text/plain": [
       "<matplotlib.figure.Figure at 0x7fd63d790eb8>"
      ]
     },
     "metadata": {},
     "output_type": "display_data"
    },
    {
     "data": {
      "text/plain": [
       "<matplotlib.figure.Figure at 0x7fd639fc6d30>"
      ]
     },
     "metadata": {},
     "output_type": "display_data"
    },
    {
     "data": {
      "text/plain": [
       "<matplotlib.figure.Figure at 0x7fd63abb30f0>"
      ]
     },
     "metadata": {},
     "output_type": "display_data"
    },
    {
     "data": {
      "text/plain": [
       "<matplotlib.figure.Figure at 0x7fd63abb3e10>"
      ]
     },
     "metadata": {},
     "output_type": "display_data"
    },
    {
     "data": {
      "text/plain": [
       "<matplotlib.figure.Figure at 0x7fd63d727f98>"
      ]
     },
     "metadata": {},
     "output_type": "display_data"
    },
    {
     "data": {
      "text/plain": [
       "<matplotlib.figure.Figure at 0x7fd64d317cc0>"
      ]
     },
     "metadata": {},
     "output_type": "display_data"
    },
    {
     "data": {
      "text/plain": [
       "<matplotlib.figure.Figure at 0x7fd64d88a748>"
      ]
     },
     "metadata": {},
     "output_type": "display_data"
    },
    {
     "data": {
      "text/plain": [
       "<matplotlib.figure.Figure at 0x7fd64d82d828>"
      ]
     },
     "metadata": {},
     "output_type": "display_data"
    },
    {
     "data": {
      "text/plain": [
       "<matplotlib.figure.Figure at 0x7fd64d2f9c50>"
      ]
     },
     "metadata": {},
     "output_type": "display_data"
    },
    {
     "data": {
      "text/plain": [
       "<matplotlib.figure.Figure at 0x7fd648e8b240>"
      ]
     },
     "metadata": {},
     "output_type": "display_data"
    },
    {
     "data": {
      "text/plain": [
       "<matplotlib.figure.Figure at 0x7fd641e26ac8>"
      ]
     },
     "metadata": {},
     "output_type": "display_data"
    },
    {
     "data": {
      "text/plain": [
       "<matplotlib.figure.Figure at 0x7fd63d74e518>"
      ]
     },
     "metadata": {},
     "output_type": "display_data"
    },
    {
     "data": {
      "text/plain": [
       "<matplotlib.figure.Figure at 0x7fd63d75bbe0>"
      ]
     },
     "metadata": {},
     "output_type": "display_data"
    },
    {
     "data": {
      "text/plain": [
       "<matplotlib.figure.Figure at 0x7fd64d83f128>"
      ]
     },
     "metadata": {},
     "output_type": "display_data"
    },
    {
     "data": {
      "text/plain": [
       "<matplotlib.figure.Figure at 0x7fd64d836630>"
      ]
     },
     "metadata": {},
     "output_type": "display_data"
    },
    {
     "data": {
      "text/plain": [
       "<matplotlib.figure.Figure at 0x7fd63d790be0>"
      ]
     },
     "metadata": {},
     "output_type": "display_data"
    },
    {
     "data": {
      "text/plain": [
       "<matplotlib.figure.Figure at 0x7fd63d753b70>"
      ]
     },
     "metadata": {},
     "output_type": "display_data"
    },
    {
     "data": {
      "text/plain": [
       "<matplotlib.figure.Figure at 0x7fd63d73d828>"
      ]
     },
     "metadata": {},
     "output_type": "display_data"
    }
   ],
   "source": [
    "for i in range(10):\n",
    "    start = i*5000;\n",
    "    end = (i+1)*5000;\n",
    "    print(start)\n",
    "    print(end)\n",
    "    X=sort.iloc[start:end,0:2].values\n",
    "    y=sort.iloc[start:end,7].values\n",
    "    plt.scatter(X[:, 0], X[:, 1], c=y, cmap=cmap_bold,edgecolor='k',s=20)\n",
    "    j = i+1\n",
    "    plt.title(\"Plot no %i\"% (j))\n",
    "    #plt.show()\n",
    "    pp.savefig()\n",
    "    plt.clf()\n",
    "    for weights in ['uniform', 'distance']:\n",
    "        # we create an instance of Neighbours Classifier and fit the data.\n",
    "        cla = neighbors.KNeighborsClassifier(n_neighbors, weights=weights)\n",
    "        cla.fit(X, y)\n",
    "\n",
    "        # Plot the decision boundary. For that, we will assign a color to each\n",
    "        # point in the mesh [x_min, x_max]x[y_min, y_max].\n",
    "        x_min, x_max = X[:, 0].min() - 0.001, X[:, 0].max() + 0.001\n",
    "        y_min, y_max = X[:, 1].min() - 0.001, X[:, 1].max() + 0.001\n",
    "        xx, yy = np.meshgrid(np.arange(x_min, x_max, h),np.arange(y_min, y_max, h))\n",
    "        mesh = np.c_[xx.ravel(), yy.ravel()]\n",
    "        Z = cla.predict(np.c_[xx.ravel(), yy.ravel()])\n",
    "        # Put the result into a color plot\n",
    "        Z = Z.reshape(xx.shape)\n",
    "        plt.figure()\n",
    "        k = plt.pcolormesh(xx, yy, Z, cmap=cmap_light)\n",
    "        # Plot also the training points\n",
    "        plt.scatter(X[:, 0], X[:, 1], c=y, cmap=cmap_bold,edgecolor='k', s=20)\n",
    "        plt.xlim(xx.min(), xx.max())\n",
    "        plt.ylim(yy.min(), yy.max())\n",
    "        plt.legend(loc=2)\n",
    "        plt.title(\"3-Class classification (k = %i, weights = '%s')\"% (n_neighbors, weights))\n",
    "        pp.savefig()\n",
    "        plt.clf()\n",
    "    #plt.show()\n",
    "pp.close()    "
   ]
  },
  {
   "cell_type": "code",
   "execution_count": 79,
   "metadata": {},
   "outputs": [
    {
     "name": "stdout",
     "output_type": "stream",
     "text": [
      "0\n",
      "5000\n",
      "Batch 0\n",
      "(3832, 2)\n",
      "(1168, 2)\n",
      "(0,)\n",
      "5000\n",
      "10000\n",
      "Batch 1\n",
      "(1294, 2)\n",
      "(3706, 2)\n",
      "(0,)\n",
      "10000\n",
      "15000\n",
      "Batch 2\n",
      "(1211, 2)\n",
      "(3789, 2)\n",
      "(0,)\n",
      "15000\n",
      "20000\n",
      "Batch 3\n",
      "(1912, 2)\n",
      "(1057, 2)\n",
      "(2031, 2)\n",
      "20000\n",
      "25000\n",
      "Batch 4\n",
      "(962, 2)\n",
      "(1268, 2)\n",
      "(2770, 2)\n",
      "25000\n",
      "30000\n",
      "Batch 5\n",
      "(1693, 2)\n",
      "(2262, 2)\n",
      "(1045, 2)\n",
      "30000\n",
      "35000\n",
      "Batch 6\n",
      "(1615, 2)\n",
      "(2407, 2)\n",
      "(978, 2)\n",
      "35000\n",
      "40000\n",
      "Batch 7\n",
      "(604, 2)\n",
      "(2946, 2)\n",
      "(1450, 2)\n",
      "40000\n",
      "45000\n",
      "Batch 8\n",
      "(39, 2)\n",
      "(1858, 2)\n",
      "(3103, 2)\n",
      "45000\n",
      "50000\n",
      "Batch 9\n",
      "(1649, 2)\n",
      "(538, 2)\n",
      "(2813, 2)\n"
     ]
    }
   ],
   "source": [
    "for i in range(10):\n",
    "    start = i*5000;\n",
    "    end = (i+1)*5000;\n",
    "    print(start)\n",
    "    print(end)\n",
    "    X=sort.iloc[start:end,0:2].values\n",
    "    y=sort.iloc[start:end,7].values\n",
    "    print(\"Batch %i\"%(i))\n",
    "    #RISK LEVEL 1\n",
    "    R1 =  []\n",
    "    for i in range(y.shape[0]):\n",
    "        if(y[i] == 1):\n",
    "            R1.append(X[i])\n",
    "    r1 = np.asarray(R1)\n",
    "\n",
    "    #RISK LEVEL 2\n",
    "    R2 =  []\n",
    "    for i in range(y.shape[0]):\n",
    "        if(y[i] == 2):\n",
    "            R2.append(X[i])\n",
    "    r2 = np.asarray(R2)\n",
    "\n",
    "    #RISK LEVEL 3\n",
    "    R3 =  []\n",
    "    for i in range(y.shape[0]):\n",
    "        if(y[i] == 3):\n",
    "            R3.append(X[i])\n",
    "    r3 = np.asarray(R3)\n",
    "    print(r1.shape)\n",
    "    print(r2.shape)\n",
    "    print(r3.shape)"
   ]
  },
  {
   "cell_type": "code",
   "execution_count": 101,
   "metadata": {},
   "outputs": [
    {
     "data": {
      "image/png": "[encoded data removed]",
      "text/plain": [
       "<matplotlib.figure.Figure at 0x7f573dad1b38>"
      ]
     },
     "metadata": {},
     "output_type": "display_data"
    }
   ],
   "source": [
    "plt.rcParams['figure.figsize'] = (10, 8.0) # set default size of plots\n",
    "from sklearn.cross_validation import train_test_split\n",
    "from sklearn.metrics import accuracy_score\n",
    "#n_neighbors = 30\n",
    "n = list(range(1,100))\n",
    "acc_S = []\n",
    "for n_neighbours in range(1,100):\n",
    "    S = 0\n",
    "    #print(n_neighbours)\n",
    "    for i in range(10):\n",
    "        start = i*5000;\n",
    "        end = (i+1)*5000;\n",
    "        #print(start)\n",
    "        #print(end)\n",
    "        X=sort.iloc[start:end,0:2].values\n",
    "        y=sort.iloc[start:end,7].values\n",
    "        for weights in ['uniform', 'distance']:\n",
    "            # we create an instance of Neighbours Classifier and fit the data.\n",
    "            cla = neighbors.KNeighborsClassifier(n_neighbours, weights=weights)\n",
    "            X_train, X_test, y_train, y_test = train_test_split(X, y, test_size=0.33, random_state=42)\n",
    "            cla.fit(X_train, y_train)\n",
    "            pred = cla.predict(X_test)\n",
    "            acc = accuracy_score(y_test, pred)\n",
    "            S = S + acc;\n",
    "            #print(acc)\n",
    "    #print(\"FINAL ACCURACY\")\n",
    "    #print((S/20))\n",
    "    acc_S.append((S/20))\n",
    "\n",
    "plt.plot(n,acc_S)\n",
    "plt.xlabel('Number of Neighbors K')\n",
    "plt.ylabel('Accuracy')\n",
    "plt.show()    "
   ]
  },
  {
   "cell_type": "markdown",
   "metadata": {},
   "source": [
    "#for 2-CLASS RED->RISK_LEVEL1 BLUE->RISK_LEVEL2\n",
    "#for 3-CLASS RED->RISK_LEVEL1 GREEN->RISK_LEVEL2 BLUE->RISK_LEVEL3"
   ]
  }
 ],
 "metadata": {
  "kernelspec": {
   "display_name": "Python 3",
   "language": "python",
   "name": "python3"
  },
  "language_info": {
   "codemirror_mode": {
    "name": "ipython",
    "version": 3
   },
   "file_extension": ".py",
   "mimetype": "text/x-python",
   "name": "python",
   "nbconvert_exporter": "python",
   "pygments_lexer": "ipython3",
   "version": "3.5.2"
  }
 },
 "nbformat": 4,
 "nbformat_minor": 2
}
